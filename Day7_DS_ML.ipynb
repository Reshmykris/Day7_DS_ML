{
  "nbformat": 4,
  "nbformat_minor": 0,
  "metadata": {
    "colab": {
      "name": "Day7_DS_ML.ipynb",
      "provenance": [],
      "collapsed_sections": [],
      "authorship_tag": "ABX9TyPoBslEFUDNEfhsiwrwcEmC",
      "include_colab_link": true
    },
    "kernelspec": {
      "name": "python3",
      "display_name": "Python 3"
    },
    "language_info": {
      "name": "python"
    }
  },
  "cells": [
    {
      "cell_type": "markdown",
      "metadata": {
        "id": "view-in-github",
        "colab_type": "text"
      },
      "source": [
        "<a href=\"https://colab.research.google.com/github/Reshmykris/Day7_DS_ML/blob/main/Day7_DS_ML.ipynb\" target=\"_parent\"><img src=\"https://colab.research.google.com/assets/colab-badge.svg\" alt=\"Open In Colab\"/></a>"
      ]
    },
    {
      "cell_type": "code",
      "metadata": {
        "id": "sE5s9HDpdLLu"
      },
      "source": [
        "import pandas as pd\n",
        "import numpy as np\n",
        "import matplotlib.pyplot as plt\n"
      ],
      "execution_count": 1,
      "outputs": []
    },
    {
      "cell_type": "code",
      "metadata": {
        "id": "OHsNlL2Jdvzv"
      },
      "source": [
        "dataset = pd.read_csv(\"/content/Social_Network_Ads.csv\")"
      ],
      "execution_count": 2,
      "outputs": []
    },
    {
      "cell_type": "code",
      "metadata": {
        "colab": {
          "base_uri": "https://localhost:8080/"
        },
        "id": "X2BY63DQd5W2",
        "outputId": "6b9d9e6e-0ebb-4141-9832-b352fa28aac7"
      },
      "source": [
        "dataset.describe\n"
      ],
      "execution_count": 3,
      "outputs": [
        {
          "output_type": "execute_result",
          "data": {
            "text/plain": [
              "<bound method NDFrame.describe of      Age  EstimatedSalary  Purchased\n",
              "0     19            19000          0\n",
              "1     35            20000          0\n",
              "2     26            43000          0\n",
              "3     27            57000          0\n",
              "4     19            76000          0\n",
              "..   ...              ...        ...\n",
              "395   46            41000          1\n",
              "396   51            23000          1\n",
              "397   50            20000          1\n",
              "398   36            33000          0\n",
              "399   49            36000          1\n",
              "\n",
              "[400 rows x 3 columns]>"
            ]
          },
          "metadata": {
            "tags": []
          },
          "execution_count": 3
        }
      ]
    },
    {
      "cell_type": "code",
      "metadata": {
        "colab": {
          "base_uri": "https://localhost:8080/"
        },
        "id": "53Fhy2q7d9-b",
        "outputId": "1488b3be-5180-4f98-b328-5242f5cc1b50"
      },
      "source": [
        "dataset.shape\n"
      ],
      "execution_count": 6,
      "outputs": [
        {
          "output_type": "execute_result",
          "data": {
            "text/plain": [
              "(400, 3)"
            ]
          },
          "metadata": {
            "tags": []
          },
          "execution_count": 6
        }
      ]
    },
    {
      "cell_type": "code",
      "metadata": {
        "colab": {
          "base_uri": "https://localhost:8080/"
        },
        "id": "OSkakUrJeGlG",
        "outputId": "0f5040bf-a074-4ca5-d803-387846bf81a7"
      },
      "source": [
        "dataset.info()"
      ],
      "execution_count": 7,
      "outputs": [
        {
          "output_type": "stream",
          "text": [
            "<class 'pandas.core.frame.DataFrame'>\n",
            "RangeIndex: 400 entries, 0 to 399\n",
            "Data columns (total 3 columns):\n",
            " #   Column           Non-Null Count  Dtype\n",
            "---  ------           --------------  -----\n",
            " 0   Age              400 non-null    int64\n",
            " 1   EstimatedSalary  400 non-null    int64\n",
            " 2   Purchased        400 non-null    int64\n",
            "dtypes: int64(3)\n",
            "memory usage: 9.5 KB\n"
          ],
          "name": "stdout"
        }
      ]
    },
    {
      "cell_type": "code",
      "metadata": {
        "id": "G6_vwIxLeMRK"
      },
      "source": [
        "x=dataset.iloc[:, :-1].values\n",
        "y=dataset.iloc[:,-1].values"
      ],
      "execution_count": 8,
      "outputs": []
    },
    {
      "cell_type": "code",
      "metadata": {
        "colab": {
          "base_uri": "https://localhost:8080/"
        },
        "id": "jfWkvM8LegpD",
        "outputId": "b43a37a6-a2e4-4313-93cd-429a0e532b06"
      },
      "source": [
        "print(x)\n",
        "print(y)"
      ],
      "execution_count": 9,
      "outputs": [
        {
          "output_type": "stream",
          "text": [
            "     Age  EstimatedSalary\n",
            "0     19            19000\n",
            "1     35            20000\n",
            "2     26            43000\n",
            "3     27            57000\n",
            "4     19            76000\n",
            "..   ...              ...\n",
            "395   46            41000\n",
            "396   51            23000\n",
            "397   50            20000\n",
            "398   36            33000\n",
            "399   49            36000\n",
            "\n",
            "[400 rows x 2 columns]\n",
            "0      0\n",
            "1      0\n",
            "2      0\n",
            "3      0\n",
            "4      0\n",
            "      ..\n",
            "395    1\n",
            "396    1\n",
            "397    1\n",
            "398    0\n",
            "399    1\n",
            "Name: Purchased, Length: 400, dtype: int64\n"
          ],
          "name": "stdout"
        }
      ]
    },
    {
      "cell_type": "code",
      "metadata": {
        "colab": {
          "base_uri": "https://localhost:8080/"
        },
        "id": "572PEABWeov5",
        "outputId": "f33bf382-6be7-4ec0-a4e9-b26636193011"
      },
      "source": [
        "#Split the data set into train and test\n",
        "\n",
        "from sklearn.model_selection import train_test_split\n",
        "x_train,x_test, y_train, y_test = train_test_split(x,y, test_size=0.25)\n",
        "\n",
        "print(x_train)\n",
        "print(x_test)\n",
        "print(y_train)\n",
        "print(y_test)"
      ],
      "execution_count": 10,
      "outputs": [
        {
          "output_type": "stream",
          "text": [
            "     Age  EstimatedSalary\n",
            "369   54            26000\n",
            "255   52            90000\n",
            "68    22            63000\n",
            "206   55           130000\n",
            "295   36            63000\n",
            "..   ...              ...\n",
            "77    22            27000\n",
            "194   28            89000\n",
            "63    32           120000\n",
            "307   47           113000\n",
            "361   53            34000\n",
            "\n",
            "[300 rows x 2 columns]\n",
            "     Age  EstimatedSalary\n",
            "324   48           131000\n",
            "240   42           149000\n",
            "19    48            29000\n",
            "163   35            38000\n",
            "70    25            80000\n",
            "..   ...              ...\n",
            "34    27            90000\n",
            "49    31            89000\n",
            "382   44           139000\n",
            "22    48            41000\n",
            "162   37            33000\n",
            "\n",
            "[100 rows x 2 columns]\n",
            "369    1\n",
            "255    1\n",
            "68     0\n",
            "206    1\n",
            "295    0\n",
            "      ..\n",
            "77     0\n",
            "194    0\n",
            "63     1\n",
            "307    1\n",
            "361    1\n",
            "Name: Purchased, Length: 300, dtype: int64\n",
            "324    1\n",
            "240    1\n",
            "19     1\n",
            "163    0\n",
            "70     0\n",
            "      ..\n",
            "34     0\n",
            "49     0\n",
            "382    1\n",
            "22     1\n",
            "162    0\n",
            "Name: Purchased, Length: 100, dtype: int64\n"
          ],
          "name": "stdout"
        }
      ]
    },
    {
      "cell_type": "code",
      "metadata": {
        "colab": {
          "base_uri": "https://localhost:8080/"
        },
        "id": "CTGmanL8fbPb",
        "outputId": "19eb3c0d-9e92-4807-8ff6-312ea3874cd8"
      },
      "source": [
        "#Feature Scaling - standardised the independent data in fixed range\n",
        "\n",
        "from sklearn.preprocessing import StandardScaler\n",
        "\n",
        "sc = StandardScaler()\n",
        "\n",
        "x_train = sc.fit_transform(x_train)\n",
        "x_test  = sc.transform(x_test)\n",
        "\n",
        "print(x_train)\n",
        "print(x_test)\n",
        "\n",
        "\n",
        "\n"
      ],
      "execution_count": 11,
      "outputs": [
        {
          "output_type": "stream",
          "text": [
            "[[ 1.57314448 -1.26507529]\n",
            " [ 1.38047522  0.58724268]\n",
            " [-1.50956363 -0.19420396]\n",
            " [ 1.66947911  1.74494141]\n",
            " [-0.16087883 -0.19420396]\n",
            " [ 0.70613283 -1.38084516]\n",
            " [ 0.99513671 -1.00459307]\n",
            " [-0.0645442   0.03733578]\n",
            " [-0.7388866  -1.58344244]\n",
            " [-1.22055974 -1.38084516]\n",
            " [-0.64255197  0.03733578]\n",
            " [-1.31689437 -1.23613282]\n",
            " [-1.12422511  1.39763179]\n",
            " [-1.02789048 -0.45468618]\n",
            " [-1.12422511  0.297818  ]\n",
            " [-1.12422511 -1.5255575 ]\n",
            " [ 0.03179043  1.22397698]\n",
            " [ 0.99513671 -1.06247801]\n",
            " [-0.44988271 -0.54151358]\n",
            " [-1.79856751 -1.40978763]\n",
            " [-0.7388866   0.297818  ]\n",
            " [ 0.89880208 -1.35190269]\n",
            " [ 0.03179043 -0.30997383]\n",
            " [ 0.03179043 -0.2520889 ]\n",
            " [ 1.09147134  0.52935774]\n",
            " [ 0.99513671  0.58724268]\n",
            " [ 0.89880208 -0.57045605]\n",
            " [ 0.22445968  1.07926464]\n",
            " [ 1.47680985  0.06627825]\n",
            " [ 0.22445968  0.06627825]\n",
            " [-1.02789048 -1.5255575 ]\n",
            " [-0.0645442   0.67407008]\n",
            " [-1.31689437 -0.3389163 ]\n",
            " [ 0.03179043 -0.57045605]\n",
            " [-0.54621734 -1.49661503]\n",
            " [-0.0645442   0.297818  ]\n",
            " [-0.7388866  -0.22314643]\n",
            " [-0.35354809  1.31080438]\n",
            " [ 1.95848299  0.90560983]\n",
            " [-0.25721346 -0.36785877]\n",
            " [ 0.22445968  0.03733578]\n",
            " [ 0.22445968 -0.2520889 ]\n",
            " [ 0.12812506  1.86071128]\n",
            " [ 0.41712894  0.00839332]\n",
            " [ 0.51346357  1.22397698]\n",
            " [-0.7388866  -1.5255575 ]\n",
            " [ 0.22445968  0.23993306]\n",
            " [-0.25721346 -0.30997383]\n",
            " [ 0.80246745  0.12416319]\n",
            " [ 0.80246745  0.35570293]\n",
            " [-0.7388866   0.50041528]\n",
            " [ 1.09147134 -0.13631903]\n",
            " [-0.64255197 -0.10737656]\n",
            " [-0.0645442  -0.42574371]\n",
            " [-1.22055974  0.26887553]\n",
            " [-0.54621734  2.32379077]\n",
            " [ 0.89880208 -0.59939852]\n",
            " [ 1.18780597  0.52935774]\n",
            " [-1.02789048  0.55830021]\n",
            " [-0.0645442   0.12416319]\n",
            " [ 0.03179043 -0.54151358]\n",
            " [-0.16087883 -0.28103137]\n",
            " [-1.70223288  0.35570293]\n",
            " [ 0.99513671  0.76089749]\n",
            " [-0.83522123 -1.20719035]\n",
            " [ 1.47680985  0.35570293]\n",
            " [ 2.05481762  0.18204812]\n",
            " [-0.83522123 -0.2520889 ]\n",
            " [ 1.09147134 -1.20719035]\n",
            " [-0.44988271 -1.12036294]\n",
            " [ 0.99513671  2.06330856]\n",
            " [ 0.32079431 -0.51257111]\n",
            " [ 0.41712894 -0.13631903]\n",
            " [ 0.22445968 -0.13631903]\n",
            " [-0.93155586 -0.94670813]\n",
            " [ 1.2841406  -1.35190269]\n",
            " [ 2.15115225 -1.03353554]\n",
            " [-0.25721346 -1.43873009]\n",
            " [ 0.22445968 -0.36785877]\n",
            " [-0.0645442   0.06627825]\n",
            " [-0.0645442   0.21099059]\n",
            " [-0.7388866  -0.59939852]\n",
            " [ 0.70613283 -1.09142048]\n",
            " [ 0.12812506  0.21099059]\n",
            " [-0.93155586 -0.30997383]\n",
            " [-1.89490214 -0.04949162]\n",
            " [-1.02789048 -0.3389163 ]\n",
            " [-0.25721346 -0.42574371]\n",
            " [-0.0645442   0.15310566]\n",
            " [ 1.38047522  1.28186192]\n",
            " [-0.93155586 -0.74411086]\n",
            " [-0.93155586 -1.09142048]\n",
            " [-1.31689437 -1.46767256]\n",
            " [-0.93155586  0.50041528]\n",
            " [-0.54621734  1.36868932]\n",
            " [-0.83522123  0.3846454 ]\n",
            " [ 0.89880208 -0.77305333]\n",
            " [-0.16087883 -0.57045605]\n",
            " [-1.70223288 -1.35190269]\n",
            " [ 0.80246745  0.76089749]\n",
            " [-0.54621734  0.47147281]\n",
            " [-0.16087883  0.84772489]\n",
            " [ 1.76581374  0.99243723]\n",
            " [ 1.09147134  0.55830021]\n",
            " [-1.02789048 -0.36785877]\n",
            " [-0.0645442   0.00839332]\n",
            " [ 0.89880208 -1.43873009]\n",
            " [ 2.05481762  0.3846454 ]\n",
            " [-1.79856751 -1.46767256]\n",
            " [ 2.05481762 -1.17824788]\n",
            " [ 0.32079431  0.26887553]\n",
            " [-0.25721346  1.10820711]\n",
            " [-0.35354809 -0.77305333]\n",
            " [ 0.89880208  2.15013596]\n",
            " [-1.31689437  0.41358787]\n",
            " [-1.31689437  0.55830021]\n",
            " [ 2.15115225  0.3846454 ]\n",
            " [-1.70223288  0.47147281]\n",
            " [-0.25721346  2.23696337]\n",
            " [ 0.80246745 -0.83093826]\n",
            " [-0.25721346 -1.23613282]\n",
            " [-1.12422511 -1.55449997]\n",
            " [-0.7388866   1.88965375]\n",
            " [-0.0645442   2.15013596]\n",
            " [-0.64255197  1.39763179]\n",
            " [ 0.41712894  1.10820711]\n",
            " [-1.12422511  0.41358787]\n",
            " [-0.83522123  0.3846454 ]\n",
            " [-0.64255197 -0.04949162]\n",
            " [-0.16087883 -0.51257111]\n",
            " [ 0.41712894  0.297818  ]\n",
            " [-1.31689437 -1.09142048]\n",
            " [-0.83522123  2.26590584]\n",
            " [ 0.22445968 -0.30997383]\n",
            " [ 2.05481762  0.52935774]\n",
            " [-1.79856751  0.00839332]\n",
            " [-0.25721346 -1.38084516]\n",
            " [-0.0645442   0.26887553]\n",
            " [-0.25721346 -0.3389163 ]\n",
            " [-1.89490214 -0.74411086]\n",
            " [-0.54621734  1.36868932]\n",
            " [ 0.41712894 -0.16526149]\n",
            " [ 0.41712894  0.297818  ]\n",
            " [-1.12422511  0.32676047]\n",
            " [-1.12422511 -1.58344244]\n",
            " [-0.64255197 -1.49661503]\n",
            " [-0.25721346  0.21099059]\n",
            " [-0.35354809 -0.77305333]\n",
            " [ 0.70613283  0.26887553]\n",
            " [ 0.32079431 -0.30997383]\n",
            " [-1.02789048 -1.12036294]\n",
            " [ 0.70613283 -1.26507529]\n",
            " [-0.25721346 -0.48362864]\n",
            " [ 1.09147134 -0.9756506 ]\n",
            " [ 0.32079431 -0.51257111]\n",
            " [ 1.95848299  0.73195502]\n",
            " [ 0.80246745 -0.30997383]\n",
            " [ 0.22445968  2.09225103]\n",
            " [-0.25721346  0.26887553]\n",
            " [-0.16087883 -0.45468618]\n",
            " [ 1.2841406   2.2080209 ]\n",
            " [-0.7388866   1.07926464]\n",
            " [ 0.03179043 -0.2520889 ]\n",
            " [ 1.57314448  1.10820711]\n",
            " [ 1.76581374  1.83176881]\n",
            " [-0.0645442   0.23993306]\n",
            " [-1.02789048 -0.3389163 ]\n",
            " [ 0.41712894 -0.13631903]\n",
            " [ 0.6097982  -0.8888232 ]\n",
            " [-1.02789048  0.52935774]\n",
            " [-1.89490214 -0.51257111]\n",
            " [-0.16087883  0.15310566]\n",
            " [ 0.80246745 -1.20719035]\n",
            " [-0.35354809  1.22397698]\n",
            " [-0.25721346 -0.28103137]\n",
            " [-0.0645442  -0.51257111]\n",
            " [ 1.2841406   1.86071128]\n",
            " [ 0.89880208 -1.29401775]\n",
            " [ 1.86214837 -0.28103137]\n",
            " [ 0.22445968 -0.36785877]\n",
            " [-1.50956363 -1.49661503]\n",
            " [ 0.22445968  0.15310566]\n",
            " [-0.83522123  0.15310566]\n",
            " [ 0.12812506  1.51340166]\n",
            " [-1.12422511 -1.09142048]\n",
            " [-0.93155586 -0.42574371]\n",
            " [-0.25721346 -0.74411086]\n",
            " [ 2.05481762  2.12119349]\n",
            " [-1.70223288  0.12416319]\n",
            " [-1.79856751 -1.29401775]\n",
            " [ 0.99513671  0.12416319]\n",
            " [ 0.03179043 -0.42574371]\n",
            " [ 1.47680985  2.12119349]\n",
            " [ 1.18780597 -0.9756506 ]\n",
            " [-1.31689437 -0.42574371]\n",
            " [-0.25721346 -0.8888232 ]\n",
            " [ 0.99513671 -1.14930541]\n",
            " [-0.64255197  0.12416319]\n",
            " [-0.25721346  0.78983996]\n",
            " [-0.54621734 -1.49661503]\n",
            " [ 0.41712894 -0.48362864]\n",
            " [-1.12422511  0.297818  ]\n",
            " [-1.79856751  0.18204812]\n",
            " [ 2.15115225 -0.80199579]\n",
            " [-0.35354809  0.06627825]\n",
            " [ 1.86214837 -1.06247801]\n",
            " [ 1.86214837  0.12416319]\n",
            " [ 0.89880208 -0.54151358]\n",
            " [-1.60589825  0.52935774]\n",
            " [ 0.70613283  1.77388388]\n",
            " [ 1.18780597 -1.43873009]\n",
            " [ 0.41712894  0.15310566]\n",
            " [ 1.38047522 -0.91776567]\n",
            " [ 0.99513671  1.86071128]\n",
            " [ 0.12812506 -0.2520889 ]\n",
            " [ 1.95848299  2.15013596]\n",
            " [ 1.09147134  2.06330856]\n",
            " [ 0.89880208 -1.14930541]\n",
            " [-0.83522123 -0.65728345]\n",
            " [ 0.03179043  1.25291945]\n",
            " [ 0.03179043 -0.57045605]\n",
            " [-0.25721346  0.52935774]\n",
            " [-0.7388866   1.33974685]\n",
            " [-1.02789048  0.76089749]\n",
            " [ 0.32079431  0.06627825]\n",
            " [-0.25721346 -1.29401775]\n",
            " [-1.02789048  0.41358787]\n",
            " [-0.25721346  0.06627825]\n",
            " [ 0.80246745 -1.09142048]\n",
            " [-1.413229   -0.62834098]\n",
            " [ 1.38047522  2.32379077]\n",
            " [ 1.57314448  0.00839332]\n",
            " [-0.54621734  0.87666736]\n",
            " [-0.16087883  2.15013596]\n",
            " [ 0.22445968 -0.36785877]\n",
            " [-0.25721346 -0.65728345]\n",
            " [ 0.41712894  0.58724268]\n",
            " [-1.31689437 -1.35190269]\n",
            " [ 0.32079431 -0.54151358]\n",
            " [ 0.41712894 -0.45468618]\n",
            " [ 2.15115225  0.9345523 ]\n",
            " [ 1.57314448  0.99243723]\n",
            " [ 0.12812506  0.76089749]\n",
            " [-0.83522123  0.297818  ]\n",
            " [-1.70223288 -0.9756506 ]\n",
            " [-0.64255197 -1.03353554]\n",
            " [ 1.47680985  0.99243723]\n",
            " [-0.16087883  1.39763179]\n",
            " [ 1.38047522 -1.40978763]\n",
            " [-0.93155586  0.26887553]\n",
            " [ 0.12812506  1.05032217]\n",
            " [-1.60589825 -0.04949162]\n",
            " [-0.93155586  0.41358787]\n",
            " [ 0.12812506  0.15310566]\n",
            " [ 1.18780597 -0.74411086]\n",
            " [ 0.41712894 -0.45468618]\n",
            " [-0.0645442   1.94753869]\n",
            " [-0.25721346  0.03733578]\n",
            " [ 0.99513671  1.97648115]\n",
            " [ 0.12812506 -0.30997383]\n",
            " [ 0.32079431 -0.19420396]\n",
            " [ 0.03179043  0.297818  ]\n",
            " [ 1.09147134 -0.8888232 ]\n",
            " [ 2.05481762 -0.80199579]\n",
            " [ 0.70613283 -0.71516839]\n",
            " [-1.22055974 -1.06247801]\n",
            " [-1.02789048  1.94753869]\n",
            " [ 0.32079431  0.50041528]\n",
            " [ 1.09147134  0.47147281]\n",
            " [ 1.86214837  1.51340166]\n",
            " [-0.25721346 -0.13631903]\n",
            " [-0.83522123 -0.77305333]\n",
            " [-0.25721346 -1.35190269]\n",
            " [-1.79856751  0.44253034]\n",
            " [-0.83522123 -0.77305333]\n",
            " [-0.44988271 -1.20719035]\n",
            " [-0.0645442  -0.36785877]\n",
            " [-1.12422511 -1.58344244]\n",
            " [ 0.12812506  0.26887553]\n",
            " [-0.44988271 -0.83093826]\n",
            " [-0.93155586 -0.30997383]\n",
            " [-1.50956363 -0.42574371]\n",
            " [-1.413229   -1.43873009]\n",
            " [-1.22055974  0.50041528]\n",
            " [ 0.80246745 -1.35190269]\n",
            " [-0.54621734  1.88965375]\n",
            " [-0.44988271 -0.02054915]\n",
            " [ 0.51346357  1.83176881]\n",
            " [ 0.89880208  1.07926464]\n",
            " [ 1.95848299 -1.35190269]\n",
            " [-0.0645442   2.2080209 ]\n",
            " [-0.44988271 -0.28103137]\n",
            " [-0.16087883  1.60022907]\n",
            " [-0.16087883 -1.06247801]\n",
            " [-0.25721346 -0.57045605]\n",
            " [-1.50956363 -1.23613282]\n",
            " [-0.93155586  0.55830021]\n",
            " [-0.54621734  1.45551673]\n",
            " [ 0.89880208  1.25291945]\n",
            " [ 1.47680985 -1.03353554]]\n",
            "[[ 0.99513671  1.77388388]\n",
            " [ 0.41712894  2.2948483 ]\n",
            " [ 0.99513671 -1.17824788]\n",
            " [-0.25721346 -0.91776567]\n",
            " [-1.22055974  0.297818  ]\n",
            " [-0.25721346 -0.2520889 ]\n",
            " [-1.89490214  0.35570293]\n",
            " [-1.79856751 -1.26507529]\n",
            " [-1.60589825  0.06627825]\n",
            " [ 1.38047522  1.97648115]\n",
            " [-0.25721346  0.61618515]\n",
            " [ 0.12812506  0.03733578]\n",
            " [-0.44988271  2.2948483 ]\n",
            " [-0.16087883  1.62917154]\n",
            " [ 1.76581374 -0.28103137]\n",
            " [-1.413229    0.35570293]\n",
            " [-1.12422511 -0.77305333]\n",
            " [-0.35354809 -1.29401775]\n",
            " [-0.64255197 -0.3389163 ]\n",
            " [ 2.05481762  1.74494141]\n",
            " [ 0.89880208  1.0213797 ]\n",
            " [ 0.99513671  1.42657426]\n",
            " [-1.12422511  0.47147281]\n",
            " [ 0.89880208 -1.03353554]\n",
            " [ 0.41712894  0.26887553]\n",
            " [ 2.15115225  1.10820711]\n",
            " [ 2.15115225 -0.68622592]\n",
            " [ 0.32079431  0.06627825]\n",
            " [-0.64255197 -1.58344244]\n",
            " [-1.12422511 -1.00459307]\n",
            " [ 1.86214837 -1.26507529]\n",
            " [-1.50956363  0.32676047]\n",
            " [-1.60589825 -1.55449997]\n",
            " [ 0.41712894  0.09522072]\n",
            " [ 0.12812506  0.09522072]\n",
            " [ 0.22445968 -0.65728345]\n",
            " [ 1.66947911  1.60022907]\n",
            " [ 0.41712894  0.99243723]\n",
            " [-1.31689437 -0.42574371]\n",
            " [ 0.80246745 -1.38084516]\n",
            " [-1.413229   -0.10737656]\n",
            " [-0.25721346  0.15310566]\n",
            " [ 0.32079431 -0.28103137]\n",
            " [-1.413229   -1.20719035]\n",
            " [ 0.99513671 -1.06247801]\n",
            " [-0.7388866   0.55830021]\n",
            " [-0.64255197  0.18204812]\n",
            " [ 0.03179043 -0.13631903]\n",
            " [ 0.80246745  1.36868932]\n",
            " [ 0.32079431 -1.14930541]\n",
            " [ 1.09147134 -1.20719035]\n",
            " [ 0.22445968 -0.28103137]\n",
            " [-1.413229   -0.19420396]\n",
            " [-1.02789048 -1.43873009]\n",
            " [-0.44988271 -0.77305333]\n",
            " [-1.12422511  0.06627825]\n",
            " [-0.44988271  1.25291945]\n",
            " [-0.0645442  -0.22314643]\n",
            " [ 0.32079431  0.297818  ]\n",
            " [-1.70223288 -0.59939852]\n",
            " [ 0.32079431 -0.71516839]\n",
            " [-0.25721346  0.06627825]\n",
            " [-1.12422511 -0.51257111]\n",
            " [ 0.22445968  0.15310566]\n",
            " [ 1.66947911 -0.8888232 ]\n",
            " [ 2.15115225 -0.80199579]\n",
            " [-0.25721346  0.09522072]\n",
            " [ 0.12812506  1.86071128]\n",
            " [-0.93155586  1.54234413]\n",
            " [-1.22055974  0.58724268]\n",
            " [ 0.89880208 -0.65728345]\n",
            " [ 1.09147134  0.12416319]\n",
            " [-0.0645442  -0.48362864]\n",
            " [ 0.03179043  0.03733578]\n",
            " [ 0.32079431  0.03733578]\n",
            " [ 1.95848299 -0.65728345]\n",
            " [-0.25721346  0.15310566]\n",
            " [-0.7388866   0.26887553]\n",
            " [-0.25721346 -0.57045605]\n",
            " [ 1.95848299 -0.91776567]\n",
            " [-1.89490214  0.47147281]\n",
            " [ 0.80246745  0.52935774]\n",
            " [ 0.70613283 -1.38084516]\n",
            " [ 0.12812506 -0.80199579]\n",
            " [ 0.51346357  1.71599894]\n",
            " [ 0.32079431  0.06627825]\n",
            " [ 0.12812506 -0.80199579]\n",
            " [ 0.32079431  0.06627825]\n",
            " [-0.0645442   0.297818  ]\n",
            " [-1.70223288  0.35570293]\n",
            " [-1.12422511 -1.14930541]\n",
            " [ 0.03179043  0.03733578]\n",
            " [ 0.12812506  0.03733578]\n",
            " [-0.93155586  0.44253034]\n",
            " [ 0.80246745  0.26887553]\n",
            " [-1.02789048  0.58724268]\n",
            " [-0.64255197  0.55830021]\n",
            " [ 0.6097982   2.00542362]\n",
            " [ 0.99513671 -0.83093826]\n",
            " [-0.0645442  -1.06247801]]\n"
          ],
          "name": "stdout"
        }
      ]
    },
    {
      "cell_type": "code",
      "metadata": {
        "colab": {
          "base_uri": "https://localhost:8080/"
        },
        "id": "oHVJOjX9gPx8",
        "outputId": "ccbc1d8c-85c5-4e68-e637-da87f6de7c10"
      },
      "source": [
        "#Logistic Regression Impl\n",
        "\n",
        "from sklearn.linear_model import LogisticRegression\n",
        "\n",
        "classifier = LogisticRegression()\n",
        "\n",
        "classifier.fit (x_train, y_train)"
      ],
      "execution_count": 13,
      "outputs": [
        {
          "output_type": "execute_result",
          "data": {
            "text/plain": [
              "LogisticRegression(C=1.0, class_weight=None, dual=False, fit_intercept=True,\n",
              "                   intercept_scaling=1, l1_ratio=None, max_iter=100,\n",
              "                   multi_class='auto', n_jobs=None, penalty='l2',\n",
              "                   random_state=None, solver='lbfgs', tol=0.0001, verbose=0,\n",
              "                   warm_start=False)"
            ]
          },
          "metadata": {
            "tags": []
          },
          "execution_count": 13
        }
      ]
    },
    {
      "cell_type": "code",
      "metadata": {
        "id": "ZtNxZJCzgvnz"
      },
      "source": [
        "from sklearn.metrics import confusion_matrix, accuracy_score\n"
      ],
      "execution_count": 15,
      "outputs": []
    },
    {
      "cell_type": "code",
      "metadata": {
        "id": "ePrIzPaRg5NQ"
      },
      "source": [
        "#Predict the test set results\n",
        "\n",
        "y_pred = classifier.predict(x_test)"
      ],
      "execution_count": 16,
      "outputs": []
    },
    {
      "cell_type": "code",
      "metadata": {
        "colab": {
          "base_uri": "https://localhost:8080/"
        },
        "id": "MGszIWNFhCjH",
        "outputId": "f7474606-a40d-4dbf-8ceb-db73296f9481"
      },
      "source": [
        "#Predict the new entry\n",
        "\n",
        "print(classifier.predict(sc.transform([[30, 85000]])))"
      ],
      "execution_count": 21,
      "outputs": [
        {
          "output_type": "stream",
          "text": [
            "[0]\n"
          ],
          "name": "stdout"
        }
      ]
    },
    {
      "cell_type": "code",
      "metadata": {
        "colab": {
          "base_uri": "https://localhost:8080/"
        },
        "id": "5EOm3BnMhVj1",
        "outputId": "ede58755-4d42-478b-d17d-86719da2fdb8"
      },
      "source": [
        "print(classifier.predict(sc.transform([[20, 850000]])))"
      ],
      "execution_count": 20,
      "outputs": [
        {
          "output_type": "stream",
          "text": [
            "[1]\n"
          ],
          "name": "stdout"
        }
      ]
    },
    {
      "cell_type": "code",
      "metadata": {
        "colab": {
          "base_uri": "https://localhost:8080/"
        },
        "id": "hZHYCctChCmc",
        "outputId": "8ebb3d46-0342-4dc7-caed-0452be1441d2"
      },
      "source": [
        "cm =confusion_matrix(y_pred, y_test)\n",
        "\n",
        "print(cm)\n",
        "\n",
        "accuracy_score(y_pred, y_test)"
      ],
      "execution_count": 22,
      "outputs": [
        {
          "output_type": "stream",
          "text": [
            "[[63  7]\n",
            " [ 4 26]]\n"
          ],
          "name": "stdout"
        },
        {
          "output_type": "execute_result",
          "data": {
            "text/plain": [
              "0.89"
            ]
          },
          "metadata": {
            "tags": []
          },
          "execution_count": 22
        }
      ]
    },
    {
      "cell_type": "code",
      "metadata": {
        "colab": {
          "base_uri": "https://localhost:8080/",
          "height": 349
        },
        "id": "spIHsJzhiJUk",
        "outputId": "65d84fae-76c2-4f43-cc34-019dc0abf85d"
      },
      "source": [
        "#Visualizing training set results\n",
        "\n",
        "from matplotlib.colors import ListedColormap\n",
        "\n",
        "x_set, y_set = sc.inverse_transform(x_train), y_train\n",
        "\n",
        "x1, x2 = np.meshgrid(np.arange(start = x_set[:,0].min() - 0, stop=x_set[:,0].max() + 0, step =0.25),\n",
        "                     np.arange(start = x_set[:,1].min() - 0, stop=x_set[:,1].max() + 1, step =0.25))\n",
        "\n",
        "plt.contourf(x1, x2, classifier.predict(sc.transform(np.array([x1.ravel(), x2.ravel()]).T)).reshape(x1.shape), cmap=ListedColormap(('red','green')))\n",
        "\n",
        "plt.xlim(x1.min(), x1.max())\n",
        "plt.ylim(x2.min(), x2.max())\n",
        "\n",
        "for i, j in enumerate (np.unique(y_set)):\n",
        "  plt.scatter(x_set[y_set== j, 0], x_set[y_set == j, 1], c = ListedColormap((\"red\",'green'))(i),label = j)\n",
        "\n",
        "plt.title(\"Logistic Regression (Training set)\")\n",
        "plt.xlabel(\"Age\")\n",
        "plt.ylabel(\"Sal\")\n",
        "plt.legend()\n",
        "plt.show()\n"
      ],
      "execution_count": 25,
      "outputs": [
        {
          "output_type": "stream",
          "text": [
            "*c* argument looks like a single numeric RGB or RGBA sequence, which should be avoided as value-mapping will have precedence in case its length matches with *x* & *y*.  Please use the *color* keyword-argument or provide a 2-D array with a single row if you intend to specify the same RGB or RGBA value for all points.\n",
            "*c* argument looks like a single numeric RGB or RGBA sequence, which should be avoided as value-mapping will have precedence in case its length matches with *x* & *y*.  Please use the *color* keyword-argument or provide a 2-D array with a single row if you intend to specify the same RGB or RGBA value for all points.\n"
          ],
          "name": "stderr"
        },
        {
          "output_type": "display_data",
          "data": {
            "image/png": "[encoded data removed]",
            "text/plain": [
              "<Figure size 432x288 with 1 Axes>"
            ]
          },
          "metadata": {
            "tags": [],
            "needs_background": "light"
          }
        }
      ]
    },
    {
      "cell_type": "code",
      "metadata": {
        "colab": {
          "base_uri": "https://localhost:8080/",
          "height": 349
        },
        "id": "Zy63G-OxmEfO",
        "outputId": "4714a4af-fbf4-407c-cf61-bcb37e3f134b"
      },
      "source": [
        "#Visualizing test set results\n",
        "\n",
        "from matplotlib.colors import ListedColormap\n",
        "\n",
        "x_set1, y_set1 = sc.inverse_transform(x_test), y_test\n",
        "\n",
        "x11, x22 = np.meshgrid(np.arange(start = x_set1[:,0].min() - 0, stop=x_set1[:,0].max() + 0, step =0.25),\n",
        "                     np.arange(start = x_set1[:,1].min() - 0, stop=x_set1[:,1].max() + 1, step =0.25))\n",
        "\n",
        "plt.contourf(x11, x22, classifier.predict(sc.transform(np.array([x11.ravel(), x22.ravel()]).T)).reshape(x11.shape), cmap=ListedColormap(('red','green')))\n",
        "\n",
        "plt.xlim(x11.min(), x11.max())\n",
        "plt.ylim(x22.min(), x22.max())\n",
        "\n",
        "for i, j in enumerate (np.unique(y_set1)):\n",
        "  plt.scatter(x_set1[y_set1== j, 0], x_set1[y_set1 == j, 1], c = ListedColormap((\"red\",'green'))(i),label = j)\n",
        "\n",
        "plt.title(\"Logistic Regression (Test set)\")\n",
        "plt.xlabel(\"Age\")\n",
        "plt.ylabel(\"Sal\")\n",
        "plt.legend()\n",
        "plt.show()\n"
      ],
      "execution_count": 27,
      "outputs": [
        {
          "output_type": "stream",
          "text": [
            "*c* argument looks like a single numeric RGB or RGBA sequence, which should be avoided as value-mapping will have precedence in case its length matches with *x* & *y*.  Please use the *color* keyword-argument or provide a 2-D array with a single row if you intend to specify the same RGB or RGBA value for all points.\n",
            "*c* argument looks like a single numeric RGB or RGBA sequence, which should be avoided as value-mapping will have precedence in case its length matches with *x* & *y*.  Please use the *color* keyword-argument or provide a 2-D array with a single row if you intend to specify the same RGB or RGBA value for all points.\n"
          ],
          "name": "stderr"
        },
        {
          "output_type": "display_data",
          "data": {
            "image/png": "[encoded data removed]",
            "text/plain": [
              "<Figure size 432x288 with 1 Axes>"
            ]
          },
          "metadata": {
            "tags": [],
            "needs_background": "light"
          }
        }
      ]
    }
  ]
}